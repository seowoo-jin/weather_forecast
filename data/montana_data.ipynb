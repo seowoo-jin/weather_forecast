{
 "cells": [
  {
   "cell_type": "code",
   "execution_count": 6,
   "metadata": {},
   "outputs": [
    {
     "name": "stdout",
     "output_type": "stream",
     "text": [
      "요청 성공\n",
      "요청 성공\n",
      "요청 성공\n",
      "요청 성공\n",
      "요청 성공\n",
      "요청 성공\n",
      "요청 성공\n",
      "요청 성공\n",
      "요청 성공\n"
     ]
    }
   ],
   "source": [
    "from IPython.display import display, HTML\n",
    "\n",
    "from weather_api import WeatherApi\n",
    "import time\n",
    "import pandas as pd\n",
    "\n",
    "instance = WeatherApi()\n",
    "start_date = \"2015-01-01\"\n",
    "end_date = \"2024-07-31\"\n",
    "\n",
    "Kelowna_British_Columbia = await instance.get_weather_data(49.8880, -119.4960, start_date, end_date)\n",
    "Redmond_OR = await instance.get_weather_data(44.2726, -121.1739, start_date, end_date)\n",
    "Elko_NV = await instance.get_weather_data(40.8324, -115.7631, start_date, end_date)\n",
    "Denver_CO = await instance.get_weather_data(39.7392, -104.9903, start_date, end_date)\n",
    "Lincoln_NE = await instance.get_weather_data(40.8136, -96.7026, start_date, end_date)\n",
    "Grand_Forks_ND = await instance.get_weather_data(47.9253, -97.0329, start_date, end_date)\n",
    "Ochre_River_Manitoba = await instance.get_weather_data(51.0417, -99.9167, start_date, end_date)\n",
    "Saskatoon_Saskatchewan = await instance.get_weather_data(52.1332, -106.6700, start_date, end_date)\n",
    "Billings_MT = await instance.get_weather_data(45.7833, -108.5007, start_date, end_date)\n"
   ]
  },
  {
   "cell_type": "code",
   "execution_count": 7,
   "metadata": {},
   "outputs": [],
   "source": [
    "Kelowna_British_Columbia['date'] = Kelowna_British_Columbia['date'].dt.tz_localize(None)\n",
    "Redmond_OR['date'] = Redmond_OR['date'].dt.tz_localize(None)\n",
    "Elko_NV['date'] = Elko_NV['date'].dt.tz_localize(None)\n",
    "Denver_CO['date'] = Denver_CO['date'].dt.tz_localize(None)\n",
    "Lincoln_NE['date'] = Lincoln_NE['date'].dt.tz_localize(None)\n",
    "Grand_Forks_ND['date'] = Grand_Forks_ND['date'].dt.tz_localize(None)\n",
    "Ochre_River_Manitoba['date'] = Ochre_River_Manitoba['date'].dt.tz_localize(None)\n",
    "Saskatoon_Saskatchewan['date'] = Saskatoon_Saskatchewan['date'].dt.tz_localize(None)\n",
    "Billings_MT['date'] = Billings_MT['date'].dt.tz_localize(None)\n",
    "\n"
   ]
  },
  {
   "cell_type": "code",
   "execution_count": 8,
   "metadata": {},
   "outputs": [],
   "source": [
    "# 엑셀 파일로 저장\n",
    "output_file = 'Billings_MT.xlsx'\n",
    "\n",
    "with pd.ExcelWriter(output_file, engine='openpyxl') as writer:\n",
    "    Kelowna_British_Columbia.to_excel(writer, sheet_name='Kelowna_British_Columbia', index=False)\n",
    "    Redmond_OR.to_excel(writer, sheet_name='Des_MoRedmond_ORines_IA', index=False)\n",
    "    Elko_NV.to_excel(writer, sheet_name='Elko_NV', index=False)\n",
    "    Denver_CO.to_excel(writer, sheet_name='Denver_CO', index=False)\n",
    "    Lincoln_NE.to_excel(writer, sheet_name='Lincoln_NE', index=False)\n",
    "    Grand_Forks_ND.to_excel(writer, sheet_name='Grand_Forks_ND', index=False)\n",
    "    Ochre_River_Manitoba.to_excel(writer, sheet_name='Ochre_River_Manitoba', index=False)\n",
    "    Saskatoon_Saskatchewan.to_excel(writer, sheet_name='Saskatoon_Saskatchewan', index=False)\n",
    "    Billings_MT.to_excel(writer, sheet_name='Billings_MT', index=False)\n"
   ]
  }
 ],
 "metadata": {
  "kernelspec": {
   "display_name": "venv",
   "language": "python",
   "name": "python3"
  },
  "language_info": {
   "codemirror_mode": {
    "name": "ipython",
    "version": 3
   },
   "file_extension": ".py",
   "mimetype": "text/x-python",
   "name": "python",
   "nbconvert_exporter": "python",
   "pygments_lexer": "ipython3",
   "version": "3.12.4"
  }
 },
 "nbformat": 4,
 "nbformat_minor": 2
}
