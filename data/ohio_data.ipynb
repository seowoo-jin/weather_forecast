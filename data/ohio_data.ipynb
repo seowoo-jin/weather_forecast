{
 "cells": [
  {
   "cell_type": "code",
   "execution_count": 6,
   "metadata": {},
   "outputs": [
    {
     "name": "stdout",
     "output_type": "stream",
     "text": [
      "요청 성공\n",
      "요청 성공\n",
      "요청 성공\n",
      "요청 성공\n",
      "요청 성공\n",
      "요청 성공\n",
      "요청 성공\n",
      "요청 성공\n",
      "요청 성공\n"
     ]
    }
   ],
   "source": [
    "from IPython.display import display, HTML\n",
    "\n",
    "from weather_api import WeatherApi\n",
    "import time\n",
    "import pandas as pd\n",
    "\n",
    "instance = WeatherApi()\n",
    "start_date = \"2015-01-01\"\n",
    "end_date = \"2024-07-31\"\n",
    "# 메서드 호출\n",
    "Brainerd_MN = await instance.get_weather_data(46.358, -94.2008, start_date, end_date)\n",
    "Des_Moines_IA = await instance.get_weather_data(41.6005, -93.6091, start_date, end_date)\n",
    "Bentonville_AR = await instance.get_weather_data(36.3728, -94.2088, start_date, end_date)\n",
    "Louisville_TN = await instance.get_weather_data(35.8218, -84.048, start_date, end_date)\n",
    "New_Bern_NC = await instance.get_weather_data(41.5575, -89.4609, start_date, end_date)\n",
    "Montoursville_PA = await instance.get_weather_data(41.2542, -76.9205, start_date, end_date)\n",
    "Ottawa_Ontario = await instance.get_weather_data(45.4215, -75.6972, start_date, end_date)\n",
    "Sault_Ste_Marie_Ontario = await instance.get_weather_data(46.5219, -84.3461, start_date, end_date)\n",
    "Swanton_OH = await instance.get_weather_data(41.5884, -83.8913, start_date, end_date)\n"
   ]
  },
  {
   "cell_type": "code",
   "execution_count": 7,
   "metadata": {},
   "outputs": [],
   "source": [
    "Brainerd_MN['date'] = Brainerd_MN['date'].dt.tz_localize(None)\n",
    "Des_Moines_IA['date'] = Des_Moines_IA['date'].dt.tz_localize(None)\n",
    "Bentonville_AR['date'] = Bentonville_AR['date'].dt.tz_localize(None)\n",
    "Louisville_TN['date'] = Louisville_TN['date'].dt.tz_localize(None)\n",
    "New_Bern_NC['date'] = New_Bern_NC['date'].dt.tz_localize(None)\n",
    "Montoursville_PA['date'] = Montoursville_PA['date'].dt.tz_localize(None)\n",
    "Ottawa_Ontario['date'] = Ottawa_Ontario['date'].dt.tz_localize(None)\n",
    "Sault_Ste_Marie_Ontario['date'] = Sault_Ste_Marie_Ontario['date'].dt.tz_localize(None)\n",
    "Swanton_OH['date'] = Swanton_OH['date'].dt.tz_localize(None)"
   ]
  },
  {
   "cell_type": "code",
   "execution_count": 8,
   "metadata": {},
   "outputs": [],
   "source": [
    "# 엑셀 파일로 저장\n",
    "output_file = 'Swanton_OH.xlsx'\n",
    "\n",
    "with pd.ExcelWriter(output_file, engine='openpyxl') as writer:\n",
    "    Brainerd_MN.to_excel(writer, sheet_name='Brainerd_MN', index=False)\n",
    "    Des_Moines_IA.to_excel(writer, sheet_name='Des_Moines_IA', index=False)\n",
    "    Bentonville_AR.to_excel(writer, sheet_name='Bentonville_AR', index=False)\n",
    "    Louisville_TN.to_excel(writer, sheet_name='Louisville_TN', index=False)\n",
    "    New_Bern_NC.to_excel(writer, sheet_name='New_Bern_NC', index=False)\n",
    "    Montoursville_PA.to_excel(writer, sheet_name='Montoursville_PA', index=False)\n",
    "    Ottawa_Ontario.to_excel(writer, sheet_name='Ottawa_Ontario', index=False)\n",
    "    Sault_Ste_Marie_Ontario.to_excel(writer, sheet_name='Sault_Ste_Marie_Ontario', index=False)\n",
    "    Swanton_OH.to_excel(writer, sheet_name='Swanton_OH', index=False)\n"
   ]
  }
 ],
 "metadata": {
  "kernelspec": {
   "display_name": "venv",
   "language": "python",
   "name": "python3"
  },
  "language_info": {
   "codemirror_mode": {
    "name": "ipython",
    "version": 3
   },
   "file_extension": ".py",
   "mimetype": "text/x-python",
   "name": "python",
   "nbconvert_exporter": "python",
   "pygments_lexer": "ipython3",
   "version": "3.12.4"
  }
 },
 "nbformat": 4,
 "nbformat_minor": 2
}
